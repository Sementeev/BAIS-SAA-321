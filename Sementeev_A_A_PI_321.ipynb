{
  "nbformat": 4,
  "nbformat_minor": 0,
  "metadata": {
    "colab": {
      "name": "Sementeev A.A. PI-321.ipynb",
      "provenance": [],
      "toc_visible": true,
      "authorship_tag": "ABX9TyPVL36C0jT5L3Q+oyJZWILG",
      "include_colab_link": true
    },
    "kernelspec": {
      "name": "python3",
      "display_name": "Python 3"
    },
    "language_info": {
      "name": "python"
    }
  },
  "cells": [
    {
      "cell_type": "markdown",
      "metadata": {
        "id": "view-in-github",
        "colab_type": "text"
      },
      "source": [
        "<a href=\"https://colab.research.google.com/github/Sementeev/Sementeev/blob/main/Sementeev_A_A_PI_321.ipynb\" target=\"_parent\"><img src=\"https://colab.research.google.com/assets/colab-badge.svg\" alt=\"Open In Colab\"/></a>"
      ]
    },
    {
      "cell_type": "markdown",
      "source": [
        "# Греческий алфавит средством Markdown"
      ],
      "metadata": {
        "id": "L1vZlauDRmE0"
      }
    },
    {
      "cell_type": "markdown",
      "source": [
        "\n",
        "Заглавная| Строчная | Название\n",
        "------|:--------:|------:\n",
        "Α     | α     | альфа\n",
        "Β     | β     | бета\n",
        "Γ     | γ     | гамма\n",
        "Δ     | δ     | дельта\n",
        "Ε     | ε     | эпсилон\n",
        "Ζ     | ζ     | дзета\n",
        "Η     | η     | эта\n",
        "Θ     | θ, ϑ  | тета\n",
        "Ι     | ι     | йота\n",
        "Κ     | κ, 𝜘  | каппа\n",
        "Λ     | λ     | лямбда\n",
        "Μ     | μ     | мю\n",
        "Ν     | ν     | ню\n",
        "Ξ     | ξ     | кси\n",
        "Ο     | ο     | омикрон\n",
        "Π     | π     | пи\n",
        "Ρ     | ρ     | ро\n",
        "Σ     | σ,Ϛ   | сигма\n",
        "Τ     | τ     | тау\n",
        "Υ     | υ     | ипсилон\n",
        "Φ     | φ, ϕ  | фи\n",
        "Χ     | χ     | хи\n",
        "Ψ     | ψ     | пси\n",
        "Ω     | ω     | омега\n"
      ],
      "metadata": {
        "id": "68WqX1jfRiQd"
      }
    },
    {
      "cell_type": "markdown",
      "source": [
        "# Греческий алфавит средством Tex\n"
      ],
      "metadata": {
        "id": "1CVyrN6uRweh"
      }
    },
    {
      "cell_type": "markdown",
      "source": [
        "\\begin{array}{ccc}\n",
        "\\text{№}&\\text{Заглавная}&\\text{Строчная}&\\text{Название}\\\\\n",
        "\\text{1}&\\text{Α}&\\alpha&\\text{альфа}\\\\\n",
        "\\text{2}&\\text{Β}&\\beta&\\text{бета}\\\\\n",
        "\\text{3}&\\Gamma&\\gamma&\\text{гамма}\\\\\n",
        "\\text{4}&\\Delta&\\delta&\\text{дельта}\\\\\n",
        "\\text{5}&\\text{Ε}&\\epsilon&\\text{эпсилон}\\\\\n",
        "\\text{6}&\\text{Ζ}&\\zeta&\\text{дзета}\\\\\n",
        "\\text{7}&\\text{Η}&\\eta&\\text{эта}\\\\\n",
        "\\text{8}&\\Theta&\\theta&\\text{тета}\\\\\n",
        "\\text{9}&\\text{Ι}&\\iota&\\text{йота}\\\\\n",
        "\\text{10}&\\text{Κ}&\\kappa&\\text{каппа}\\\\\n",
        "\\text{11}&\\Lambda&\\lambda&\\text{лямбда}\\\\\n",
        "\\text{12}&\\text{Μ}&\\mu&\\text{мю}\\\\\n",
        "\\text{13}&\\text{Ν}&\\nu&\\text{ню}\\\\\n",
        "\\text{14}&\\Xi&\\xi&\\text{кси}\\\\\n",
        "\\text{15}&\\text{Ο}&\\text{ο}&\\text{омикрон}\\\\\n",
        "\\text{16}&\\Pi&\\pi&\\text{пи}\\\\\n",
        "\\text{17}&\\text{Ρ}&\\rho&\\text{ро}\\\\\n",
        "\\text{18}&\\Sigma&\\sigma&\\text{сигма}\\\\\n",
        "\\text{19}&\\text{Τ}&\\tau&\\text{тау}\\\\\n",
        "\\text{20}&\\Upsilon&\\upsilon&\\text{ипсилон}\\\\\n",
        "\\text{21}&\\Phi&\\phi&\\text{фи}\\\\\n",
        "\\text{22}&\\text{Χ}&\\chi&\\text{хи}\\\\\n",
        "\\text{23}&\\Psi&\\psi&\\text{пси}\\\\\n",
        "\\text{24}&\\Omega&\\omega&\\text{омега}\\\\\n",
        "\\end{array}"
      ],
      "metadata": {
        "id": "iXn6gXU8SNev"
      }
    },
    {
      "cell_type": "markdown",
      "source": [
        "Формула в отдельной строке $${\\displaystyle f(x)={\\frac {1}{\\sigma {\\sqrt {2\\pi }}}}e {-{\\frac {1}{2}} \\left({\\frac {x-\\mu }{\\sigma }}\\right) {2}}}$$\n",
        "\n",
        "\n",
        "Формула в тексте: ${\\displaystyle f(x)={\\frac {1}{\\sigma {\\sqrt {2\\pi }}}}e {-{\\frac {1}{2}}\\left({\\frac {x-\\mu }{\\sigma }}\\right) {2}}}$"
      ],
      "metadata": {
        "id": "QJFwlUPjSTCS"
      }
    }
  ]
}